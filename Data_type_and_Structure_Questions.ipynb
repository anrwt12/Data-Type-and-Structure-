{
  "nbformat": 4,
  "nbformat_minor": 0,
  "metadata": {
    "colab": {
      "provenance": []
    },
    "kernelspec": {
      "name": "python3",
      "display_name": "Python 3"
    },
    "language_info": {
      "name": "python"
    }
  },
  "cells": [
    {
      "cell_type": "markdown",
      "source": [
        "**Data type and structure questions**"
      ],
      "metadata": {
        "id": "_4IQHo09n5m9"
      }
    },
    {
      "cell_type": "markdown",
      "source": [
        "**1 What are data structures, and why are they important?**\n",
        "\n",
        "-> Data structures are ways of organizing and storing data (e.g., lists, tuples, sets, dictionaries). They are important because they allow efficient data access, modification, and management.\n",
        "\n",
        "\n",
        "---\n",
        "\n",
        "\n",
        "**2 Explain the difference between mutable and immutable data types with examples.**\n",
        "\n",
        " -> Mutable: Can be changed after creation. Example: list = [1, 2, 3] → we can do list.append(4).\n",
        "\n",
        "Immutable: Cannot be changed after creation. Example: tuple = (1, 2, 3) → elements cannot be modified.\n",
        "\n",
        "---\n",
        "\n",
        "\n",
        " **3. What are the main differences between lists and tuples in Python?**\n",
        "\n",
        "->Lists can be changed, while tuples cannot.\n",
        "Lists use square brackets [ ], tuples use round brackets ( ).\n",
        "Because tuples never change, they are a bit faster and are used for fixed data.\n",
        "\n",
        "---\n",
        "\n",
        "\n",
        "\n",
        "\n",
        "\n",
        "\n",
        "**4. Describe how dictionaries store data.**\n",
        "\n",
        "\n",
        "\n",
        "-> Dictionaries store data in key–value pairs using a hash table. Keys are unique and mapped to values. Example: {\"name\": \"Alice\", \"age\": 25}.\n",
        "\n",
        "---\n",
        "\n",
        " **5. Why might you use a set instead of a list in Python?**\n",
        "\n",
        "\n",
        "-> Sets automatically remove duplicates.\n",
        "\n",
        "Sets allow faster membership checking (in).\n",
        "\n",
        "\n",
        "\n",
        "---\n",
        "\n",
        "**6. What is a string in Python, and how is it different from a list?**\n",
        "\n",
        "\n",
        " ->A string is an immutable sequence of characters, while a list is a mutable collection of items (which can include numbers, strings, etc.).\n",
        "\n",
        "\n",
        "---\n",
        "\n",
        "**7. How do tuples ensure data integrity in Python?**\n",
        "\n",
        "\n",
        "->Since tuples are immutable, their data cannot be changed accidentally, ensuring data safety.\n",
        "\n",
        "\n",
        "---\n",
        "\n",
        "**8. What is a hash table, and how does it relate to dictionaries in Python?**\n",
        "\n",
        "\n",
        "->A hash table stores data using a hash function that maps keys to memory locations. Python’s dictionaries are implemented as hash tables.\n",
        "\n",
        "\n",
        "---\n",
        "\n",
        "**9. Can lists contain different data types in Python?**\n",
        "\n",
        "->\n",
        "Yes. Example: [1, \"hello\", 3.14, True].\n",
        "\n",
        "\n",
        "---\n",
        "\n",
        "**10. Explain why strings are immutable in Python.**\n",
        "\n",
        "\n",
        "->\n",
        "Strings are immutable to make them memory-efficient, thread-safe, and reusable in multiple places.\n",
        "\n",
        "\n",
        "---\n",
        "\n",
        "**11. What advantages do dictionaries offer over lists for certain tasks?**\n",
        "\n",
        "\n",
        "\n",
        "->\n",
        "Faster lookup using keys (O(1) on average).\n",
        "\n",
        "Better for structured data.\n",
        "\n",
        "\n",
        "\n",
        "---\n",
        "\n",
        "**12. Describe a scenario where using a tuple would be preferable over a list**.\n",
        "\n",
        "\n",
        "\n",
        "->\n",
        "When storing coordinates (x, y) that should not be changed.\n",
        "\n",
        "\n",
        "---\n",
        "\n",
        "**13. How do sets handle duplicate values in Python?**\n",
        "\n",
        "\n",
        "\n",
        "->\n",
        "Sets automatically remove duplicates. Example: {1, 2, 2, 3} → {1, 2, 3}.\n",
        "\n",
        "\n",
        "---\n",
        "\n",
        "**14. How does the \"in\" keyword work differently for lists and dictionaries?**\n",
        "\n",
        "\n",
        "->\n",
        "In list: checks if element exists (3 in [1,2,3]).\n",
        "\n",
        "In dict: checks if key exists (\"name\" in {\"name\": \"Bob\"}).\n",
        "\n",
        "\n",
        "\n",
        "---\n",
        "**15. Can we modify a tuple?**\n",
        "\n",
        "\n",
        "->No, because tuples are immutable.\n",
        "\n",
        "\n",
        "---\n",
        " **16. What is a nested dictionary?**\n",
        "\n",
        "\n",
        "->A dictionary inside another dictionary.\n",
        "Example: {\"student\": {\"name\": \"John\", \"age\": 20}}.\n",
        "\n",
        "---\n",
        "\n",
        " **17. Time complexity of dictionary access?**\n",
        "\n",
        "\n",
        "\n",
        "->O(1) on average (very fast).\n",
        "\n",
        "---\n",
        "\n",
        "**18. When are lists preferred over dictionaries?**\n",
        "\n",
        "\n",
        "->When you only need ordered items without key-value pairs.\n",
        "\n",
        "\n",
        "---\n",
        "**19. Why are dictionaries unordered?**\n",
        "\n",
        "->They use hashing, so order does not matter. In Python 3.7+, they maintain insertion order but still retrieval is by key.\n",
        "\n",
        "\n",
        "---\n",
        "\n",
        "\n",
        "**20. Difference between list and dictionary retrieval?**\n",
        "\n",
        "\n",
        "\n",
        "->\n",
        "List: access by index (e.g., list[2]).\n",
        "\n",
        "Dictionary: access by key (e.g., dict[\"name\"])."
      ],
      "metadata": {
        "id": "CVWEXp6DozIs"
      }
    },
    {
      "cell_type": "markdown",
      "source": [
        "       **PRACTICAL QUESTIONS**"
      ],
      "metadata": {
        "id": "PN3QE0FgfFn8"
      }
    },
    {
      "cell_type": "code",
      "source": [
        "#1. Create a string with your name and print it.\n",
        "\n",
        "name = \"Anjali\"\n",
        "print(name)"
      ],
      "metadata": {
        "id": "cR9EsCh9XDlm",
        "colab": {
          "base_uri": "https://localhost:8080/"
        },
        "outputId": "201302e2-729d-42c7-c923-733ae0d3c518"
      },
      "execution_count": null,
      "outputs": [
        {
          "output_type": "stream",
          "name": "stdout",
          "text": [
            "Anjali\n"
          ]
        }
      ]
    },
    {
      "cell_type": "code",
      "source": [
        "#2. Find the length of the string \"Hello World\".\n",
        "\n",
        "text = \"Hello World\"\n",
        "print(len(text))"
      ],
      "metadata": {
        "id": "TlspYNmrp3b3",
        "colab": {
          "base_uri": "https://localhost:8080/"
        },
        "outputId": "227b21a4-f8dc-4bb9-ab4b-cf405902a63a"
      },
      "execution_count": null,
      "outputs": [
        {
          "output_type": "stream",
          "name": "stdout",
          "text": [
            "11\n"
          ]
        }
      ]
    },
    {
      "cell_type": "code",
      "source": [
        "#3. Slice the first 3 characters from the string \"Python Programming\".\n",
        "\n",
        "s = \"Python Programming\"\n",
        "print(s[:3])"
      ],
      "metadata": {
        "id": "4Hy2jbqLYKTF",
        "colab": {
          "base_uri": "https://localhost:8080/"
        },
        "outputId": "e2fcdc59-9bb1-4fe1-9383-7db63ad66e6b"
      },
      "execution_count": null,
      "outputs": [
        {
          "output_type": "stream",
          "name": "stdout",
          "text": [
            "Pyt\n"
          ]
        }
      ]
    },
    {
      "cell_type": "code",
      "source": [
        "#4. Convert the string \"hello\" to uppercase.\n",
        "\n",
        "word = \"hello\"\n",
        "print(word.upper())"
      ],
      "metadata": {
        "id": "BDZ2YFixYKVb",
        "colab": {
          "base_uri": "https://localhost:8080/"
        },
        "outputId": "405083c0-6949-482c-e51f-5f9b3e490224"
      },
      "execution_count": null,
      "outputs": [
        {
          "output_type": "stream",
          "name": "stdout",
          "text": [
            "HELLO\n"
          ]
        }
      ]
    },
    {
      "cell_type": "code",
      "source": [
        "#5. Replace the word \"apple\" with \"orange\" in the string \"I like apple\".\n",
        "\n",
        "sentence = \"I like apple\"\n",
        "print(sentence.replace(\"apple\", \"orange\"))"
      ],
      "metadata": {
        "id": "6k6Nuu-FYKXy",
        "colab": {
          "base_uri": "https://localhost:8080/"
        },
        "outputId": "52bd5aa1-4648-4478-ebf1-4a76c5eb41b4"
      },
      "execution_count": null,
      "outputs": [
        {
          "output_type": "stream",
          "name": "stdout",
          "text": [
            "I like orange\n"
          ]
        }
      ]
    },
    {
      "cell_type": "code",
      "source": [
        "#6. Create a list with numbers 1 to 5 and print it.\n",
        "\n",
        "numbers = [1, 2, 3, 4, 5]\n",
        "print(numbers)"
      ],
      "metadata": {
        "id": "W6VFQ7tdYKaM",
        "colab": {
          "base_uri": "https://localhost:8080/"
        },
        "outputId": "be2ec944-2bc1-476e-f86f-63e2c43075df"
      },
      "execution_count": null,
      "outputs": [
        {
          "output_type": "stream",
          "name": "stdout",
          "text": [
            "[1, 2, 3, 4, 5]\n"
          ]
        }
      ]
    },
    {
      "cell_type": "code",
      "source": [
        "#7. Append the number 10 to the list [1, 2, 3, 4].\n",
        "\n",
        "lst = [1, 2, 3, 4]\n",
        "lst.append(10)\n",
        "print(lst)"
      ],
      "metadata": {
        "id": "IG8U5LHsYKdQ",
        "colab": {
          "base_uri": "https://localhost:8080/"
        },
        "outputId": "961389f7-e872-4055-a3f6-4fe67e6ce11c"
      },
      "execution_count": null,
      "outputs": [
        {
          "output_type": "stream",
          "name": "stdout",
          "text": [
            "[1, 2, 3, 4, 10]\n"
          ]
        }
      ]
    },
    {
      "cell_type": "code",
      "source": [
        "#8. Remove the number 3 from the list [1, 2, 3, 4, 5].\n",
        "\n",
        "lst = [1, 2, 3, 4, 5]\n",
        "lst.remove(3)\n",
        "print(lst)"
      ],
      "metadata": {
        "id": "o46Mn0O0YKf8",
        "colab": {
          "base_uri": "https://localhost:8080/"
        },
        "outputId": "5edf0175-930e-4bbc-f9a6-78fa67a47385"
      },
      "execution_count": null,
      "outputs": [
        {
          "output_type": "stream",
          "name": "stdout",
          "text": [
            "[1, 2, 4, 5]\n"
          ]
        }
      ]
    },
    {
      "cell_type": "code",
      "source": [
        "#9. Access the second element in the list ['a', 'b', 'c', 'd'].\n",
        "\n",
        "letters = ['a', 'b', 'c', 'd']\n",
        "print(letters[1])"
      ],
      "metadata": {
        "id": "j7n1avWpYKlQ",
        "colab": {
          "base_uri": "https://localhost:8080/"
        },
        "outputId": "fc0d22c9-8455-4c01-b55e-fe7e4610265b"
      },
      "execution_count": null,
      "outputs": [
        {
          "output_type": "stream",
          "name": "stdout",
          "text": [
            "b\n"
          ]
        }
      ]
    },
    {
      "cell_type": "code",
      "source": [
        "#10. Reverse the list [10, 20, 30, 40, 50].\n",
        "\n",
        "nums = [10, 20, 30, 40, 50]\n",
        "nums.reverse()\n",
        "print(nums)"
      ],
      "metadata": {
        "id": "GHt5W07XYKoL",
        "colab": {
          "base_uri": "https://localhost:8080/"
        },
        "outputId": "f99a5ab2-3dfc-4035-ed1b-f827ba6b171a"
      },
      "execution_count": null,
      "outputs": [
        {
          "output_type": "stream",
          "name": "stdout",
          "text": [
            "[50, 40, 30, 20, 10]\n"
          ]
        }
      ]
    },
    {
      "cell_type": "code",
      "source": [
        "#11. Create a tuple with elements 100, 200, 300 and print it.\n",
        "\n",
        "t = (100, 200, 300)\n",
        "print(t)"
      ],
      "metadata": {
        "colab": {
          "base_uri": "https://localhost:8080/"
        },
        "id": "M0dlYK_bZgBv",
        "outputId": "2840c0b9-5158-4c5b-96ed-6b2b884266d2"
      },
      "execution_count": null,
      "outputs": [
        {
          "output_type": "stream",
          "name": "stdout",
          "text": [
            "(100, 200, 300)\n"
          ]
        }
      ]
    },
    {
      "cell_type": "code",
      "source": [
        "#12. Access the second-to-last element of the tuple ('red', 'green', 'blue', 'yellow').\n",
        "\n",
        "t = ('red', 'green', 'blue', 'yellow')\n",
        "print(t[-2])"
      ],
      "metadata": {
        "colab": {
          "base_uri": "https://localhost:8080/"
        },
        "id": "EtMmU9gXZhJI",
        "outputId": "19a73251-d7a1-44b7-c5f0-daa5dce868b8"
      },
      "execution_count": null,
      "outputs": [
        {
          "output_type": "stream",
          "name": "stdout",
          "text": [
            "blue\n"
          ]
        }
      ]
    },
    {
      "cell_type": "code",
      "source": [
        "#13. Find the minimum number in the tuple (10, 20, 5, 15).\n",
        "\n",
        "t = (10, 20, 5, 15)\n",
        "print(min(t))"
      ],
      "metadata": {
        "colab": {
          "base_uri": "https://localhost:8080/"
        },
        "id": "lbedlwntZhLw",
        "outputId": "188d2f7f-5c2a-4188-f1da-40ebb39011dc"
      },
      "execution_count": null,
      "outputs": [
        {
          "output_type": "stream",
          "name": "stdout",
          "text": [
            "5\n"
          ]
        }
      ]
    },
    {
      "cell_type": "code",
      "source": [
        "#14. Find the index of 'cat' in the tuple ('dog', 'cat', 'rabbit').\n",
        "\n",
        "t = ('dog', 'cat', 'rabbit')\n",
        "print(t.index('cat'))"
      ],
      "metadata": {
        "colab": {
          "base_uri": "https://localhost:8080/"
        },
        "id": "3woCqedSZhOx",
        "outputId": "2de6fa93-5ac4-4da6-dca6-bfe2aa9aeeb6"
      },
      "execution_count": null,
      "outputs": [
        {
          "output_type": "stream",
          "name": "stdout",
          "text": [
            "1\n"
          ]
        }
      ]
    },
    {
      "cell_type": "code",
      "source": [
        "#15. Tuple with fruits and check if \"kiwi\" is in it.\n",
        "\n",
        "fruits = ('apple', 'banana', 'mango')\n",
        "print('kiwi' in fruits)"
      ],
      "metadata": {
        "colab": {
          "base_uri": "https://localhost:8080/"
        },
        "id": "cLU8SH60ZhRV",
        "outputId": "0970951c-3e3c-4fee-9285-de9c3c129951"
      },
      "execution_count": null,
      "outputs": [
        {
          "output_type": "stream",
          "name": "stdout",
          "text": [
            "False\n"
          ]
        }
      ]
    },
    {
      "cell_type": "code",
      "source": [
        "#16. Create a set with {'a', 'b', 'c'} and print it.\n",
        "\n",
        "s = {'a', 'b', 'c'}\n",
        "print(s)"
      ],
      "metadata": {
        "id": "19YFWy-QZhUT",
        "colab": {
          "base_uri": "https://localhost:8080/"
        },
        "outputId": "a348a4aa-d807-403d-f703-3e50a010aaac"
      },
      "execution_count": null,
      "outputs": [
        {
          "output_type": "stream",
          "name": "stdout",
          "text": [
            "{'a', 'c', 'b'}\n"
          ]
        }
      ]
    },
    {
      "cell_type": "code",
      "source": [
        "#17. Clear all elements from the set {1, 2, 3, 4, 5}.\n",
        "\n",
        "s = {1, 2, 3, 4, 5}\n",
        "s.clear()\n",
        "print(s)"
      ],
      "metadata": {
        "id": "K3vaSOYnZhXN",
        "colab": {
          "base_uri": "https://localhost:8080/"
        },
        "outputId": "a7cbf98c-24f1-42c3-ca36-2bd9d73c2910"
      },
      "execution_count": null,
      "outputs": [
        {
          "output_type": "stream",
          "name": "stdout",
          "text": [
            "set()\n"
          ]
        }
      ]
    },
    {
      "cell_type": "code",
      "source": [
        "#18. Remove element 4 from the set {1, 2, 3, 4}.\n",
        "\n",
        "s = {1, 2, 3, 4}\n",
        "s.remove(4)\n",
        "print(s)"
      ],
      "metadata": {
        "id": "IF2mvjKEZhaU",
        "colab": {
          "base_uri": "https://localhost:8080/"
        },
        "outputId": "601da1a6-6ee0-4ddf-a8a2-72a9e2af0d2f"
      },
      "execution_count": null,
      "outputs": [
        {
          "output_type": "stream",
          "name": "stdout",
          "text": [
            "{1, 2, 3}\n"
          ]
        }
      ]
    },
    {
      "cell_type": "code",
      "source": [
        "#19. Find union of two sets {1, 2, 3} and {3, 4, 5}.\n",
        "\n",
        "s1 = {1, 2, 3}\n",
        "s2 = {3, 4, 5}\n",
        "print(s1.union(s2))"
      ],
      "metadata": {
        "id": "e6KJ9QcFZhcl",
        "colab": {
          "base_uri": "https://localhost:8080/"
        },
        "outputId": "8067f0d7-3d2d-4a89-eb74-3f1aeccdfd0e"
      },
      "execution_count": null,
      "outputs": [
        {
          "output_type": "stream",
          "name": "stdout",
          "text": [
            "{1, 2, 3, 4, 5}\n"
          ]
        }
      ]
    },
    {
      "cell_type": "code",
      "source": [
        "#20. Find intersection of two sets {1, 2, 3} and {2, 3, 4}.\n",
        "\n",
        "s1 = {1, 2, 3}\n",
        "s2 = {2, 3, 4}\n",
        "print(s1.intersection(s2))"
      ],
      "metadata": {
        "id": "xRl55BUSZhfx",
        "colab": {
          "base_uri": "https://localhost:8080/"
        },
        "outputId": "fc80768a-c9af-45c3-ec28-249b9cc6ee04"
      },
      "execution_count": null,
      "outputs": [
        {
          "output_type": "stream",
          "name": "stdout",
          "text": [
            "{2, 3}\n"
          ]
        }
      ]
    },
    {
      "cell_type": "code",
      "source": [
        "#21. Create a dictionary with keys 'name', 'age', 'city' and print it.\n",
        "\n",
        "d = {'name': 'John', 'age': 25, 'city': 'New York'}\n",
        "print(d)"
      ],
      "metadata": {
        "colab": {
          "base_uri": "https://localhost:8080/"
        },
        "id": "OXDKGDeuZhjE",
        "outputId": "47362a2d-89b9-417f-9a68-4fc55661489e"
      },
      "execution_count": null,
      "outputs": [
        {
          "output_type": "stream",
          "name": "stdout",
          "text": [
            "{'name': 'John', 'age': 25, 'city': 'New York'}\n"
          ]
        }
      ]
    },
    {
      "cell_type": "code",
      "source": [
        "#22. Add new key-value pair 'country':'USA' to dictionary.\n",
        "\n",
        "d = {'name': 'John', 'age': 25}\n",
        "d['country'] = 'USA'\n",
        "print(d)"
      ],
      "metadata": {
        "colab": {
          "base_uri": "https://localhost:8080/"
        },
        "id": "aO8gcg8zZhlj",
        "outputId": "adcf1a33-56ec-467b-9174-536d941883ca"
      },
      "execution_count": null,
      "outputs": [
        {
          "output_type": "stream",
          "name": "stdout",
          "text": [
            "{'name': 'John', 'age': 25, 'country': 'USA'}\n"
          ]
        }
      ]
    },
    {
      "cell_type": "code",
      "source": [
        "#23. Access the value associated with key 'name'.\n",
        "\n",
        "d = {'name': 'Alice', 'age': 30}\n",
        "print(d['name'])"
      ],
      "metadata": {
        "colab": {
          "base_uri": "https://localhost:8080/"
        },
        "id": "Aa79dbVoZhn9",
        "outputId": "1668c54e-f780-4dfd-db37-99ec5dda9690"
      },
      "execution_count": null,
      "outputs": [
        {
          "output_type": "stream",
          "name": "stdout",
          "text": [
            "Alice\n"
          ]
        }
      ]
    },
    {
      "cell_type": "code",
      "source": [
        "#24. Remove key 'age' from dictionary.\n",
        "\n",
        "d = {'name': 'Bob', 'age': 22, 'city': 'New York'}\n",
        "del d['age']\n",
        "print(d)"
      ],
      "metadata": {
        "colab": {
          "base_uri": "https://localhost:8080/"
        },
        "id": "nWQ7qVbEZhrp",
        "outputId": "27b478f8-d160-48fc-b05c-21efb834f0e8"
      },
      "execution_count": null,
      "outputs": [
        {
          "output_type": "stream",
          "name": "stdout",
          "text": [
            "{'name': 'Bob', 'city': 'New York'}\n"
          ]
        }
      ]
    },
    {
      "cell_type": "code",
      "source": [
        "#25. Check if key 'city' exists in dictionary.\n",
        "\n",
        "d = {'name': 'Alice', 'city': 'Paris'}\n",
        "print('city' in d)"
      ],
      "metadata": {
        "colab": {
          "base_uri": "https://localhost:8080/"
        },
        "id": "_aU4-EjvZhwR",
        "outputId": "02b0c0bd-a567-47c6-acb7-843f6b025391"
      },
      "execution_count": null,
      "outputs": [
        {
          "output_type": "stream",
          "name": "stdout",
          "text": [
            "True\n"
          ]
        }
      ]
    },
    {
      "cell_type": "code",
      "source": [
        "#26. Create a list, a tuple, and a dictionary, and print all.\n",
        "\n",
        "my_list = [1, 2, 3]\n",
        "my_tuple = (4, 5, 6)\n",
        "my_dict = {'a': 10, 'b': 20}\n",
        "print(my_list, my_tuple, my_dict)"
      ],
      "metadata": {
        "colab": {
          "base_uri": "https://localhost:8080/"
        },
        "id": "hWU1SKGyZh2C",
        "outputId": "bccf3e4f-1e06-4c4a-a189-18748f86739f"
      },
      "execution_count": null,
      "outputs": [
        {
          "output_type": "stream",
          "name": "stdout",
          "text": [
            "[1, 2, 3] (4, 5, 6) {'a': 10, 'b': 20}\n"
          ]
        }
      ]
    },
    {
      "cell_type": "code",
      "source": [
        "#27. Create a list of 5 random numbers (1–100), sort, and print.\n",
        "\n",
        "import random\n",
        "nums = random.sample(range(1, 101), 5)\n",
        "nums.sort()\n",
        "print(nums)"
      ],
      "metadata": {
        "colab": {
          "base_uri": "https://localhost:8080/"
        },
        "id": "nHSZZRm4Zh5c",
        "outputId": "6216a90c-f1f5-4953-9418-de3d8b889aa1"
      },
      "execution_count": null,
      "outputs": [
        {
          "output_type": "stream",
          "name": "stdout",
          "text": [
            "[1, 10, 49, 58, 95]\n"
          ]
        }
      ]
    },
    {
      "cell_type": "code",
      "source": [
        "#28. Create a list with strings and print element at third index.\n",
        "\n",
        "words = ['apple', 'banana', 'cherry', 'date']\n",
        "print(words[3])"
      ],
      "metadata": {
        "colab": {
          "base_uri": "https://localhost:8080/"
        },
        "id": "w3UqSyN-Zh8N",
        "outputId": "61a3a580-cb59-4e3c-a841-270b5a6b819e"
      },
      "execution_count": null,
      "outputs": [
        {
          "output_type": "stream",
          "name": "stdout",
          "text": [
            "date\n"
          ]
        }
      ]
    },
    {
      "cell_type": "code",
      "source": [
        "#29. Combine two dictionaries into one.\n",
        "\n",
        "d1 = {'a': 1, 'b': 2}\n",
        "d2 = {'c': 3, 'd': 4}\n",
        "d1.update(d2)\n",
        "print(d1)"
      ],
      "metadata": {
        "colab": {
          "base_uri": "https://localhost:8080/"
        },
        "id": "qvxKTbnTZh_x",
        "outputId": "dd8fe0ec-546a-4f50-dfa3-647c35a9f0bf"
      },
      "execution_count": null,
      "outputs": [
        {
          "output_type": "stream",
          "name": "stdout",
          "text": [
            "{'a': 1, 'b': 2, 'c': 3, 'd': 4}\n"
          ]
        }
      ]
    },
    {
      "cell_type": "code",
      "source": [
        "#30. Convert a list of strings into a set.\n",
        "\n",
        "lst = ['apple', 'banana', 'apple', 'cherry']\n",
        "s = set(lst)\n",
        "print(s)"
      ],
      "metadata": {
        "colab": {
          "base_uri": "https://localhost:8080/"
        },
        "id": "Kh88uegwZiCv",
        "outputId": "ee494d6e-fe3b-4469-abbc-218cc0924f01"
      },
      "execution_count": null,
      "outputs": [
        {
          "output_type": "stream",
          "name": "stdout",
          "text": [
            "{'cherry', 'banana', 'apple'}\n"
          ]
        }
      ]
    }
  ]
}